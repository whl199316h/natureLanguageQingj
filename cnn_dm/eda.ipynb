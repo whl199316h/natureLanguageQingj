{
 "cells": [
  {
   "cell_type": "code",
   "execution_count": 11,
   "metadata": {
    "collapsed": false
   },
   "outputs": [
    {
     "name": "stderr",
     "output_type": "stream",
     "text": [
      "100%|██████████| 3198/3198 [00:09<00:00, 333.17it/s]\n"
     ]
    }
   ],
   "source": [
    "import os\n",
    "import nltk\n",
    "import re\n",
    "\n",
    "from collections import Counter\n",
    "\n",
    "from tqdm import tqdm\n",
    "\n",
    "root_dir = \"/Users/minjoons/data/cnn/questions\"\n",
    "data_dir = os.path.join(root_dir, \"test\")\n",
    "\n",
    "char_counter = Counter()\n",
    "word_counter = Counter()\n",
    "ent_counter = Counter()\n",
    "max_num_words = 0\n",
    "max_num_ques_words = 0\n",
    "max_num_sents = 0\n",
    "max_num_words_per_sent = 0\n",
    "max_num_chars = 0\n",
    "\n",
    "nums_words = []\n",
    "nums_ques_words = []\n",
    "nums_sents = []\n",
    "nums_words_per_sent = []\n",
    "nums_chars = []\n",
    "nums_entities = []\n",
    "\n",
    "sent_tokenize = lambda x: re.split(\"[.!?]\", x)\n",
    "sent_tokenize = nltk.sent_tokenize\n",
    "\n",
    "num_ques = len(list(os.listdir(data_dir)))\n",
    "\n",
    "for path in tqdm(os.listdir(data_dir), total=num_ques):\n",
    "    if path.endswith(\".question\"):\n",
    "        with open(os.path.join(data_dir, path), 'r') as fh:\n",
    "            url = fh.readline().strip()\n",
    "            _ = fh.readline()\n",
    "            para = fh.readline().strip()\n",
    "            _ = fh.readline()\n",
    "            ques = fh.readline().strip()\n",
    "            _ = fh.readline()\n",
    "            answer = fh.readline().strip()\n",
    "            _ = fh.readline()\n",
    "            cands = list(line.strip() for line in fh)\n",
    "            cand_ents = list(cand.split(\":\")[0] for cand in cands)\n",
    "            words = para.split(\" \")\n",
    "            sents = sent_tokenize(para)\n",
    "            wordss = list(sent.split(\" \") for sent in sents)\n",
    "            ques_words = ques.split(\" \")\n",
    "            \n",
    "            nums_entities.append(len(cands))\n",
    "            nums_words.append(len(words))\n",
    "            nums_ques_words.append(len(ques_words))\n",
    "            nums_sents.append(len(sents))\n",
    "            nums_words_per_sent.extend(map(len, wordss))\n",
    "            nums_chars.extend(map(len, words))\n",
    "            \n",
    "            for word in ques_words:\n",
    "                if word.startswith(\"@\"):\n",
    "                    ent_counter[word] += 1\n",
    "                else:\n",
    "                    word_counter[word] += 1\n",
    "                    for c in word:\n",
    "                        char_counter[c] += 1\n",
    "            \n",
    "            for word in words:\n",
    "                if word.startswith(\"@\"):\n",
    "                    ent_counter[word] += 1\n",
    "                else:\n",
    "                    word_counter[word] += 1\n",
    "                    for c in word:\n",
    "                        char_counter[c] += 1"
   ]
  },
  {
   "cell_type": "code",
   "execution_count": 6,
   "metadata": {
    "collapsed": false
   },
   "outputs": [
    {
     "data": {
      "text/plain": [
       "(22747, 465, 77)"
      ]
     },
     "execution_count": 6,
     "metadata": {},
     "output_type": "execute_result"
    }
   ],
   "source": [
    "len(word_counter), len(ent_counter), len(char_counter)"
   ]
  },
  {
   "cell_type": "code",
   "execution_count": 7,
   "metadata": {
    "collapsed": false
   },
   "outputs": [
    {
     "data": {
      "text/plain": [
       "(1989, 37, 122, 443, 24)"
      ]
     },
     "execution_count": 7,
     "metadata": {},
     "output_type": "execute_result"
    }
   ],
   "source": [
    "max_num_words, max_num_ques_words, max_num_sents, max_num_words_per_sent, max_num_chars"
   ]
  },
  {
   "cell_type": "code",
   "execution_count": 4,
   "metadata": {
    "collapsed": false
   },
   "outputs": [
    {
     "data": {
      "text/plain": [
       "['hello', ' Wow', ' Hmm', '']"
      ]
     },
     "execution_count": 4,
     "metadata": {},
     "output_type": "execute_result"
    }
   ],
   "source": [
    "import re\n",
    "re.split(\"[.!?]\", \"hello. Wow! Hmm?\")\n"
   ]
  },
  {
   "cell_type": "code",
   "execution_count": 22,
   "metadata": {
    "collapsed": false
   },
   "outputs": [
    {
     "data": {
      "image/png": "[encoded data removed]",
      "text/plain": [
       "<matplotlib.figure.Figure at 0x10c247128>"
      ]
     },
     "metadata": {},
     "output_type": "display_data"
    }
   ],
   "source": [
    "%matplotlib inline\n",
    "import matplotlib.pyplot as plt\n",
    "import numpy as np\n",
    "counter = Counter(nums_words)\n",
    "values = list(counter.values())\n",
    "plt.plot(list(counter.keys()), np.cumsum(values)/sum(values))\n",
    "plt.show()\n",
    "# plt.hist(nums_words)\n",
    "# plt.show()"
   ]
  },
  {
   "cell_type": "code",
   "execution_count": 8,
   "metadata": {
    "collapsed": false
   },
   "outputs": [
    {
     "data": {
      "image/png": "[encoded data removed]",
      "text/plain": [
       "<matplotlib.figure.Figure at 0x10e956438>"
      ]
     },
     "metadata": {},
     "output_type": "display_data"
    }
   ],
   "source": [
    "\n",
    "counter = Counter(nums_words_per_sent)\n",
    "plt.plot(list(counter.keys()), list(counter.values()))\n",
    "plt.show()"
   ]
  },
  {
   "cell_type": "code",
   "execution_count": 10,
   "metadata": {
    "collapsed": false
   },
   "outputs": [
    {
     "data": {
      "image/png": "[encoded data removed]",
      "text/plain": [
       "<matplotlib.figure.Figure at 0x10e94a6d8>"
      ]
     },
     "metadata": {},
     "output_type": "display_data"
    }
   ],
   "source": [
    "plt.hist(nums_sents)\n",
    "plt.show()"
   ]
  },
  {
   "cell_type": "code",
   "execution_count": 14,
   "metadata": {
    "collapsed": false
   },
   "outputs": [
    {
     "data": {
      "image/png": "[encoded data removed]",
      "text/plain": [
       "<matplotlib.figure.Figure at 0x107dc1a58>"
      ]
     },
     "metadata": {},
     "output_type": "display_data"
    }
   ],
   "source": [
    "import matplotlib.pyplot as plt\n",
    "%matplotlib inline\n",
    "counter = Counter(nums_entities)\n",
    "plt.plot(list(counter.keys()), list(counter.values()))\n",
    "plt.show()\n"
   ]
  },
  {
   "cell_type": "code",
   "execution_count": null,
   "metadata": {
    "collapsed": true
   },
   "outputs": [],
   "source": []
  }
 ],
 "metadata": {
  "kernelspec": {
   "display_name": "Python 3",
   "language": "python",
   "name": "python3"
  },
  "language_info": {
   "codemirror_mode": {
    "name": "ipython",
    "version": 3
   },
   "file_extension": ".py",
   "mimetype": "text/x-python",
   "name": "python",
   "nbconvert_exporter": "python",
   "pygments_lexer": "ipython3",
   "version": "3.5.1"
  }
 },
 "nbformat": 4,
 "nbformat_minor": 0
}
