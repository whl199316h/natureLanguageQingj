{
 "cells": [
  {
   "cell_type": "code",
   "execution_count": 1,
   "metadata": {
    "collapsed": true
   },
   "outputs": [],
   "source": [
    "import json\n",
    "\n",
    "aug_data_path = \"/Users/minjoons/data/squad/dev-v1.0-aug.json\"\n",
    "aug_data = json.load(open(aug_data_path, 'r'))"
   ]
  },
  {
   "cell_type": "code",
   "execution_count": 5,
   "metadata": {
    "collapsed": true
   },
   "outputs": [],
   "source": [
    "def getter():\n",
    "    for article in aug_data['data']:\n",
    "        for para in article['paragraphs']:\n",
    "            deps = para['deps']\n",
    "            nodess = []\n",
    "            for dep in deps:\n",
    "                nodes, edges = dep\n",
    "                if dep is not None:\n",
    "                    nodess.append(nodes)\n",
    "            wordss = [[node[0] for node in nodes] for nodes in nodess]\n",
    "            for qa in para['qas']:\n",
    "                for answer in qa['answers']:\n",
    "                    text = answer['text']\n",
    "                    word_start = answer['answer_word_start']\n",
    "                    word_stop = answer['answer_word_stop']\n",
    "                    answer_words = wordss[word_start[0]][word_start[1]:word_stop[1]]\n",
    "                    yield answer_words, text"
   ]
  },
  {
   "cell_type": "code",
   "execution_count": 6,
   "metadata": {
    "collapsed": true
   },
   "outputs": [],
   "source": [
    "def counter():\n",
    "    count = 0\n",
    "    for article in aug_data['data']:\n",
    "        for para in article['paragraphs']:\n",
    "            deps = para['deps']\n",
    "            nodess = []\n",
    "            for dep in deps:\n",
    "                nodes, edges = dep\n",
    "                if dep is not None:\n",
    "                    count += 1\n",
    "                    nodess.append(nodes)\n",
    "            wordss = [[node[0] for node in nodes] for nodes in nodess]\n",
    "            for qa in para['qas']:\n",
    "                for answer in qa['answers']:\n",
    "                    text = answer['text']\n",
    "                    word_start = answer['answer_word_start']\n",
    "                    word_stop = answer['answer_word_stop']\n",
    "                    answer_words = wordss[word_start[0]][word_start[1]:word_stop[1]]\n",
    "                    yield answer_words, text"
   ]
  },
  {
   "cell_type": "code",
   "execution_count": 15,
   "metadata": {
    "collapsed": false
   },
   "outputs": [
    {
     "data": {
      "text/plain": [
       "(['Levi',\n",
       "  \"'s\",\n",
       "  'Stadium',\n",
       "  'in',\n",
       "  'the',\n",
       "  'San',\n",
       "  'Francisco',\n",
       "  'Bay',\n",
       "  'Area',\n",
       "  'at',\n",
       "  'Santa',\n",
       "  'Clara',\n",
       "  ',',\n",
       "  'California',\n",
       "  '.'],\n",
       " \"Levi's Stadium in the San Francisco Bay Area at Santa Clara, California.\")"
      ]
     },
     "execution_count": 15,
     "metadata": {},
     "output_type": "execute_result"
    }
   ],
   "source": [
    "next(a)"
   ]
  },
  {
   "cell_type": "code",
   "execution_count": 10,
   "metadata": {
    "collapsed": false
   },
   "outputs": [
    {
     "data": {
      "text/plain": [
       "(['Carolina', 'Panthers'], 'Carolina Panthers')"
      ]
     },
     "execution_count": 10,
     "metadata": {},
     "output_type": "execute_result"
    }
   ],
   "source": [
    "next(a)"
   ]
  },
  {
   "cell_type": "code",
   "execution_count": 11,
   "metadata": {
    "collapsed": false
   },
   "outputs": [
    {
     "data": {
      "text/plain": [
       "(['Carolina', 'Panthers'], 'Carolina Panthers')"
      ]
     },
     "execution_count": 11,
     "metadata": {},
     "output_type": "execute_result"
    }
   ],
   "source": [
    "next(a)"
   ]
  },
  {
   "cell_type": "code",
   "execution_count": null,
   "metadata": {
    "collapsed": true
   },
   "outputs": [],
   "source": []
  }
 ],
 "metadata": {
  "kernelspec": {
   "display_name": "Python 3",
   "language": "python",
   "name": "python3"
  },
  "language_info": {
   "codemirror_mode": {
    "name": "ipython",
    "version": 3
   },
   "file_extension": ".py",
   "mimetype": "text/x-python",
   "name": "python",
   "nbconvert_exporter": "python",
   "pygments_lexer": "ipython3",
   "version": "3.5.1"
  }
 },
 "nbformat": 4,
 "nbformat_minor": 0
}
